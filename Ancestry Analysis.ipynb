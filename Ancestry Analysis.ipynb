{
 "cells": [
  {
   "cell_type": "markdown",
   "metadata": {},
   "source": [
    "### Remaining: \n",
    "- Fix birth year extract (account for non '-' split)\n",
    "- Tie last names to general country they're from?"
   ]
  },
  {
   "cell_type": "markdown",
   "metadata": {},
   "source": [
    "# Introduction\n",
    "My fiancee and I are both interested by our geneology, and subsequently have an [Ancestry account](www.ancestry.com).  When it came time to renew our account, we had to take a look at the budget due to me being in grad school (and thus foregoing the income I previously had).\n",
    "\n",
    "We both have family that reaches *really* far back (...in American terms), and have put in a lot of time to put everything together.  I found out you can extract a [GEDCOM](https://en.wikipedia.org/wiki/GEDCOM) (GEneological Data COMmunication) file, and since I was trying to improve my Python data munging skills, I thought - why not analyze my ancestry?\n",
    "\n",
    "There are a few Python packages out there that will load a GEDCOM file directly into Python, but I ended up using the GNU program [GRAMPS](https://gramps-project.org/) to convert it into a series of CSVs.  GRAMPS technically does about 80% of what I wanted to do - and is ironically built with Python - but just using it wouldn't be nearly as fun\n",
    "\n",
    "# Questions to Explore\n",
    "- Question 1\n",
    "- Mobility over time\n",
    "\n",
    "\n",
    "# Caveats\n",
    "In addition to the data being **really** messy, there are a few restrictions that will impact some of the analysis:\n",
    "* The basic Ancestry account will only pull records for those residing in the United States\n",
    "* While my mom's side of the family in the US goes back to colonial times, my dad's side of the family are relatively recent immigrants from Italy, so this will show when looking at specific things like countries of birth\n",
    "- Time won on some of some of the time vs. quality tradeoffs due to the level of the how messy some of the data is.  My favorite example being \"somewhere in the delta\" being listed as a birth place.  This may be worth fixing in a professional setting for looking at the state and country of birth, but wasn't worth the time to fix it for my purposes\n",
    "\n",
    "With that all said, let's get started!"
   ]
  },
  {
   "cell_type": "code",
   "execution_count": 236,
   "metadata": {
    "collapsed": false
   },
   "outputs": [],
   "source": [
    "import numpy as np\n",
    "import pandas as pd\n",
    "import matplotlib.pyplot as plt\n",
    "import seaborn as sns\n",
    "import vincent  # used for plotting map data\n",
    "%matplotlib inline\n",
    "\n",
    "\n",
    "plt.style.use('seaborn-deep')\n",
    "pd.set_option('display.max_columns', None)  # Displays all columns - needed since our data frames will be wide"
   ]
  },
  {
   "cell_type": "markdown",
   "metadata": {},
   "source": [
    "# Part I\n",
    "## The Data\n",
    "We have four CSVs at our disposal:\n",
    "- Individual Detail: The bulk of our data - one row for every individual with various information shown below\n",
    "- Marriage Detail: The husband/wife, date, place of marriage, and a \"family\" key\n",
    "- Family Detail: The \"family\" key and children\n",
    "- Place Detail: The \"place\" key and address.  I didn't end up using it, but I would have if I wanted to look at locations of marriage or burial\n",
    "\n",
    "Since some of the columns in the tables had either little or no data, I included lines to drop any columns without data, and manually viewed each table with the Pandas .info() command to see which columns contained too few records to be of use.\n",
    "\n",
    "You'll also see as we go on, but this data is *messy*.  It has a lot of missing records, and some of the data is outright in the wrong place.  The formatting is very inconsistent.  For example, I have seen the following formats for dates: '29 Dec, 1865', '12/29/1865', '1865-12-29', '1860s', and 'about Dec 1865'."
   ]
  },
  {
   "cell_type": "code",
   "execution_count": 237,
   "metadata": {
    "collapsed": false
   },
   "outputs": [
    {
     "name": "stdout",
     "output_type": "stream",
     "text": [
      "<class 'pandas.core.frame.DataFrame'>\n",
      "Int64Index: 489 entries, 0 to 488\n",
      "Data columns (total 13 columns):\n",
      "Person           489 non-null object\n",
      "Surname          483 non-null object\n",
      "Given            486 non-null object\n",
      "Suffix           20 non-null object\n",
      "Gender           489 non-null object\n",
      "Birth date       460 non-null object\n",
      "Birth place      400 non-null object\n",
      "Birth source     132 non-null object\n",
      "Death date       308 non-null object\n",
      "Death place      250 non-null object\n",
      "Death source     36 non-null object\n",
      "Burial place     21 non-null object\n",
      "Burial source    20 non-null object\n",
      "dtypes: object(13)\n",
      "memory usage: 53.5+ KB\n"
     ]
    },
    {
     "data": {
      "text/plain": [
       "\"\\nPlace = pd.read_csv('C:\\\\Users\\\\JeffM\\\\Documents\\\\Ancestry Files\\\\Macaluso_Tree.csv', skiprows = 988)\\nPlace.dropna(axis = 'columns', how = 'all', inplace = True)\\n\""
      ]
     },
     "execution_count": 237,
     "metadata": {},
     "output_type": "execute_result"
    }
   ],
   "source": [
    "# Individual Detail\n",
    "df = pd.read_csv('C:\\\\Users\\\\JeffM\\\\Documents\\\\Ancestry Files\\\\Macaluso_Tree.csv', nrows = 489)\n",
    "df.dropna(axis = 'columns', how = 'all', inplace = True)  # Drops any column that doesn't contain any data\n",
    "df.info()\n",
    "\n",
    "# Marriage Detail\n",
    "Marriage = pd.read_csv('C:\\\\Users\\\\JeffM\\\\Documents\\\\Ancestry Files\\\\Macaluso_Tree.csv', skiprows = 490, nrows = 87)\n",
    "Marriage.dropna(axis = 'columns', how = 'all', inplace = True)\n",
    "\n",
    "# Family Detail\n",
    "Family = pd.read_csv('C:\\\\Users\\\\JeffM\\\\Documents\\\\Ancestry Files\\\\Macaluso_Tree.csv', skiprows = 579, nrows = 407)\n",
    "Family.dropna(axis = 'columns', how = 'all', inplace = True)\n",
    "\n",
    "# Place Detail - Removed due to never using it\n",
    "\"\"\"\n",
    "Place = pd.read_csv('C:\\\\Users\\\\JeffM\\\\Documents\\\\Ancestry Files\\\\Macaluso_Tree.csv', skiprows = 988)\n",
    "Place.dropna(axis = 'columns', how = 'all', inplace = True)\n",
    "\"\"\""
   ]
  },
  {
   "cell_type": "code",
   "execution_count": 238,
   "metadata": {
    "collapsed": false
   },
   "outputs": [],
   "source": [
    "# Too few sources to bother with\n",
    "df.drop(['Birth source', 'Death source', 'Burial source'], axis = 1, inplace = True)\n",
    "\n",
    "# Create a new column for full name.  Correcting often misspelled last name.\n",
    "df.replace(to_replace = 'MacAluso', value = 'Macaluso', inplace = True)  # No, it's not Scottish or Irish\n",
    "df[\"Name\"] = df[\"Given\"].map(str) + \" \" + df[\"Surname\"]\n",
    "\n",
    "# Renaming the columns to make them more intuitive\n",
    "Family.columns = ['Family', 'Person']"
   ]
  },
  {
   "cell_type": "markdown",
   "metadata": {},
   "source": [
    "In order to combine the three tables and tie the parents to the children, I had to join the Marriage data frame to the Individual data frame before combining everything together.\n",
    "\n",
    "Here's a quick look at the information I'll be adding to the main data frame for the parents.  You can also see the 'about 1842' under the Father Birth date column, no country listed for the first record under Father Birth place, and a lot of missing values."
   ]
  },
  {
   "cell_type": "code",
   "execution_count": 239,
   "metadata": {
    "collapsed": false
   },
   "outputs": [
    {
     "data": {
      "text/html": [
       "<div>\n",
       "<table border=\"1\" class=\"dataframe\">\n",
       "  <thead>\n",
       "    <tr style=\"text-align: right;\">\n",
       "      <th></th>\n",
       "      <th>Husband</th>\n",
       "      <th>Father Birth date</th>\n",
       "      <th>Father Birth place</th>\n",
       "      <th>Father Death date</th>\n",
       "      <th>Father Death place</th>\n",
       "      <th>Father Burial place</th>\n",
       "      <th>Father Name</th>\n",
       "    </tr>\n",
       "  </thead>\n",
       "  <tbody>\n",
       "    <tr>\n",
       "      <th>80</th>\n",
       "      <td>[P481]</td>\n",
       "      <td>about 1842</td>\n",
       "      <td>New York</td>\n",
       "      <td>NaN</td>\n",
       "      <td>NaN</td>\n",
       "      <td>NaN</td>\n",
       "      <td>Willett Green</td>\n",
       "    </tr>\n",
       "    <tr>\n",
       "      <th>81</th>\n",
       "      <td>[P141]</td>\n",
       "      <td>NaN</td>\n",
       "      <td>NaN</td>\n",
       "      <td>NaN</td>\n",
       "      <td>NaN</td>\n",
       "      <td>NaN</td>\n",
       "      <td>John McKee</td>\n",
       "    </tr>\n",
       "    <tr>\n",
       "      <th>82</th>\n",
       "      <td>[P130]</td>\n",
       "      <td>NaN</td>\n",
       "      <td>NaN</td>\n",
       "      <td>NaN</td>\n",
       "      <td>NaN</td>\n",
       "      <td>NaN</td>\n",
       "      <td>Daniel McDonald Sr</td>\n",
       "    </tr>\n",
       "    <tr>\n",
       "      <th>83</th>\n",
       "      <td>[P192]</td>\n",
       "      <td>1650</td>\n",
       "      <td>Lambeth, London, England</td>\n",
       "      <td>NaN</td>\n",
       "      <td>NaN</td>\n",
       "      <td>NaN</td>\n",
       "      <td>John Rasbury</td>\n",
       "    </tr>\n",
       "    <tr>\n",
       "      <th>84</th>\n",
       "      <td>[P430]</td>\n",
       "      <td>1645</td>\n",
       "      <td>Anne Arundel County, Maryland</td>\n",
       "      <td>NaN</td>\n",
       "      <td>Anne Arundel County, Maryland</td>\n",
       "      <td>NaN</td>\n",
       "      <td>nan Bagley</td>\n",
       "    </tr>\n",
       "  </tbody>\n",
       "</table>\n",
       "</div>"
      ],
      "text/plain": [
       "   Husband Father Birth date             Father Birth place Father Death date  \\\n",
       "80  [P481]        about 1842                       New York               NaN   \n",
       "81  [P141]               NaN                            NaN               NaN   \n",
       "82  [P130]               NaN                            NaN               NaN   \n",
       "83  [P192]              1650       Lambeth, London, England               NaN   \n",
       "84  [P430]              1645  Anne Arundel County, Maryland               NaN   \n",
       "\n",
       "               Father Death place Father Burial place         Father Name  \n",
       "80                            NaN                 NaN       Willett Green  \n",
       "81                            NaN                 NaN          John McKee  \n",
       "82                            NaN                 NaN  Daniel McDonald Sr  \n",
       "83                            NaN                 NaN        John Rasbury  \n",
       "84  Anne Arundel County, Maryland                 NaN          nan Bagley  "
      ]
     },
     "execution_count": 239,
     "metadata": {},
     "output_type": "execute_result"
    }
   ],
   "source": [
    "Father_Info = df.drop(['Surname', 'Given', 'Suffix', 'Gender'], axis = 1)\n",
    "\n",
    "Father_Info.columns = ['Husband', 'Father Birth date', 'Father Birth place', 'Father Death date', 'Father Death place', 'Father Burial place', 'Father Name']\n",
    "\n",
    "Father = pd.concat([Marriage['Husband']], axis=1)  # Inner join to limit the list to only husbands\n",
    "\n",
    "Father = Father.merge(Father_Info, on = 'Husband')\n",
    "\n",
    "Father.tail()"
   ]
  },
  {
   "cell_type": "markdown",
   "metadata": {},
   "source": [
    "Doing the same thing for the mother.  Even though these are more recent dates, you can see that the data isn't cleaner."
   ]
  },
  {
   "cell_type": "code",
   "execution_count": 240,
   "metadata": {
    "collapsed": false
   },
   "outputs": [
    {
     "data": {
      "text/html": [
       "<div>\n",
       "<table border=\"1\" class=\"dataframe\">\n",
       "  <thead>\n",
       "    <tr style=\"text-align: right;\">\n",
       "      <th></th>\n",
       "      <th>Wife</th>\n",
       "      <th>Mother Birth date</th>\n",
       "      <th>Mother Birth place</th>\n",
       "      <th>Mother Death date</th>\n",
       "      <th>Mother Death place</th>\n",
       "      <th>Mother Burial place</th>\n",
       "      <th>Mother Name</th>\n",
       "    </tr>\n",
       "  </thead>\n",
       "  <tbody>\n",
       "    <tr>\n",
       "      <th>77</th>\n",
       "      <td>[P478]</td>\n",
       "      <td>about 1884</td>\n",
       "      <td>New York</td>\n",
       "      <td>NaN</td>\n",
       "      <td>NaN</td>\n",
       "      <td>NaN</td>\n",
       "      <td>Mabel Greene</td>\n",
       "    </tr>\n",
       "    <tr>\n",
       "      <th>78</th>\n",
       "      <td>[P480]</td>\n",
       "      <td>about 1843</td>\n",
       "      <td>New York</td>\n",
       "      <td>NaN</td>\n",
       "      <td>NaN</td>\n",
       "      <td>NaN</td>\n",
       "      <td>Sarah Green</td>\n",
       "    </tr>\n",
       "    <tr>\n",
       "      <th>79</th>\n",
       "      <td>[P140]</td>\n",
       "      <td>NaN</td>\n",
       "      <td>NaN</td>\n",
       "      <td>NaN</td>\n",
       "      <td>NaN</td>\n",
       "      <td>NaN</td>\n",
       "      <td>Margaret McKee</td>\n",
       "    </tr>\n",
       "    <tr>\n",
       "      <th>80</th>\n",
       "      <td>[P27]</td>\n",
       "      <td>about 1856</td>\n",
       "      <td>NaN</td>\n",
       "      <td>about 1916</td>\n",
       "      <td>Tacoma, Pierce County, Washington, USA</td>\n",
       "      <td>NaN</td>\n",
       "      <td>Gecomina Damico</td>\n",
       "    </tr>\n",
       "    <tr>\n",
       "      <th>81</th>\n",
       "      <td>[P129]</td>\n",
       "      <td>NaN</td>\n",
       "      <td>NaN</td>\n",
       "      <td>NaN</td>\n",
       "      <td>NaN</td>\n",
       "      <td>NaN</td>\n",
       "      <td>Emma Flora McDonald</td>\n",
       "    </tr>\n",
       "  </tbody>\n",
       "</table>\n",
       "</div>"
      ],
      "text/plain": [
       "      Wife Mother Birth date Mother Birth place Mother Death date  \\\n",
       "77  [P478]        about 1884           New York               NaN   \n",
       "78  [P480]        about 1843           New York               NaN   \n",
       "79  [P140]               NaN                NaN               NaN   \n",
       "80   [P27]        about 1856                NaN        about 1916   \n",
       "81  [P129]               NaN                NaN               NaN   \n",
       "\n",
       "                        Mother Death place Mother Burial place  \\\n",
       "77                                     NaN                 NaN   \n",
       "78                                     NaN                 NaN   \n",
       "79                                     NaN                 NaN   \n",
       "80  Tacoma, Pierce County, Washington, USA                 NaN   \n",
       "81                                     NaN                 NaN   \n",
       "\n",
       "            Mother Name  \n",
       "77         Mabel Greene  \n",
       "78          Sarah Green  \n",
       "79       Margaret McKee  \n",
       "80      Gecomina Damico  \n",
       "81  Emma Flora McDonald  "
      ]
     },
     "execution_count": 240,
     "metadata": {},
     "output_type": "execute_result"
    }
   ],
   "source": [
    "Mother_Info = df.drop(['Surname', 'Given', 'Suffix', 'Gender'], axis = 1)\n",
    "\n",
    "Mother_Info.columns = ['Wife', 'Mother Birth date', 'Mother Birth place', 'Mother Death date', 'Mother Death place', 'Mother Burial place', 'Mother Name']\n",
    "\n",
    "Mother = pd.concat([Marriage['Wife']], axis=1)\n",
    "\n",
    "Mother = Mother.merge(Mother_Info, on = 'Wife')\n",
    "\n",
    "Mother.tail()"
   ]
  },
  {
   "cell_type": "code",
   "execution_count": 241,
   "metadata": {
    "collapsed": false
   },
   "outputs": [],
   "source": [
    "# Merge the Family dataframe to assign the family ID for other joins\n",
    "df = pd.merge(df, Family, on = 'Person', how = 'left')"
   ]
  },
  {
   "cell_type": "code",
   "execution_count": 242,
   "metadata": {
    "collapsed": false
   },
   "outputs": [],
   "source": [
    "# Merge the Marriage dataframe to assign the mother and father\n",
    "Marriage.columns = ['Family', 'FatherKey', 'MotherKey', 'Date', 'Place', 'Source']\n",
    "df = pd.merge(df, Marriage, on = 'Family', how = 'left')"
   ]
  },
  {
   "cell_type": "markdown",
   "metadata": {},
   "source": [
    "Now to finish up the merges, and get a look at summary statistics and a slice of our data frame.\n",
    "\n",
    "Note: I keep using df.info() instead of df.describe() since I only really care about how many non-null records there are due to every column being either a string or inconsistently formatted date."
   ]
  },
  {
   "cell_type": "code",
   "execution_count": 243,
   "metadata": {
    "collapsed": false
   },
   "outputs": [
    {
     "name": "stdout",
     "output_type": "stream",
     "text": [
      "<class 'pandas.core.frame.DataFrame'>\n",
      "Int64Index: 490 entries, 0 to 590\n",
      "Data columns (total 23 columns):\n",
      "Person                 490 non-null object\n",
      "Surname                484 non-null object\n",
      "Given                  487 non-null object\n",
      "Gender                 490 non-null object\n",
      "Birth date             461 non-null object\n",
      "Birth place            401 non-null object\n",
      "Death date             309 non-null object\n",
      "Death place            251 non-null object\n",
      "Burial place           21 non-null object\n",
      "Name                   484 non-null object\n",
      "Family                 407 non-null object\n",
      "Father Birth date      396 non-null object\n",
      "Father Birth place     400 non-null object\n",
      "Father Death date      365 non-null object\n",
      "Father Death place     366 non-null object\n",
      "Father Burial place    64 non-null object\n",
      "Father Name            405 non-null object\n",
      "Mother Birth date      388 non-null object\n",
      "Mother Birth place     382 non-null object\n",
      "Mother Death date      345 non-null object\n",
      "Mother Death place     326 non-null object\n",
      "Mother Burial place    35 non-null object\n",
      "Mother Name            372 non-null object\n",
      "dtypes: object(23)\n",
      "memory usage: 91.9+ KB\n"
     ]
    }
   ],
   "source": [
    "# Merge the parental info on the data frame\n",
    "df = pd.merge(df, Father, how = 'left', left_on = 'FatherKey', right_on = 'Husband')\n",
    "df = pd.merge(df, Mother, how = 'left', left_on = 'MotherKey', right_on = 'Wife')\n",
    "df.drop(['Husband', 'Wife', 'MotherKey', 'FatherKey', 'Suffix', 'Date', 'Place', 'Source'], axis = 1, inplace = True)\n",
    "df.drop_duplicates(inplace = True)  # To account for dupliciate rows later discovered\n",
    "\n",
    "df.info()"
   ]
  },
  {
   "cell_type": "code",
   "execution_count": 244,
   "metadata": {
    "collapsed": false
   },
   "outputs": [],
   "source": [
    "# Renaming columns to remove spaces for dot notation\n",
    "df.columns = ['PersonKey', 'Surname', 'Given', 'Gender', 'BirthDate', 'BirthPlace', 'DeathDate', 'DeathPlace',\n",
    "              'BurialPlace', 'Name', 'Family', 'FatherBirthDate', 'FatherBirthPlace', 'FatherDeathDate','FatherDeathPlace',\n",
    "              'FatherBurialPlace', 'FatherName', 'MotherBirthDate', 'MotherBirthPlace', 'MotherDeathDate', 'MotherDeathPlace',\n",
    "               'MotherBurialPlace', 'MotherName']"
   ]
  },
  {
   "cell_type": "markdown",
   "metadata": {},
   "source": [
    "Here's a good look at some more recent data with a couple of great uncles, a great aunt, and my grandpa on my dad's side.  You also can see the recency of my Italian side under the Father/Mother Birth Place columns."
   ]
  },
  {
   "cell_type": "code",
   "execution_count": 245,
   "metadata": {
    "collapsed": false
   },
   "outputs": [
    {
     "data": {
      "text/html": [
       "<div>\n",
       "<table border=\"1\" class=\"dataframe\">\n",
       "  <thead>\n",
       "    <tr style=\"text-align: right;\">\n",
       "      <th></th>\n",
       "      <th>PersonKey</th>\n",
       "      <th>Surname</th>\n",
       "      <th>Given</th>\n",
       "      <th>Gender</th>\n",
       "      <th>BirthDate</th>\n",
       "      <th>BirthPlace</th>\n",
       "      <th>DeathDate</th>\n",
       "      <th>DeathPlace</th>\n",
       "      <th>BurialPlace</th>\n",
       "      <th>Name</th>\n",
       "      <th>Family</th>\n",
       "      <th>FatherBirthDate</th>\n",
       "      <th>FatherBirthPlace</th>\n",
       "      <th>FatherDeathDate</th>\n",
       "      <th>FatherDeathPlace</th>\n",
       "      <th>FatherBurialPlace</th>\n",
       "      <th>FatherName</th>\n",
       "      <th>MotherBirthDate</th>\n",
       "      <th>MotherBirthPlace</th>\n",
       "      <th>MotherDeathDate</th>\n",
       "      <th>MotherDeathPlace</th>\n",
       "      <th>MotherBurialPlace</th>\n",
       "      <th>MotherName</th>\n",
       "    </tr>\n",
       "  </thead>\n",
       "  <tbody>\n",
       "    <tr>\n",
       "      <th>331</th>\n",
       "      <td>[P28]</td>\n",
       "      <td>Macaluso</td>\n",
       "      <td>Frank</td>\n",
       "      <td>male</td>\n",
       "      <td>1913-11-11</td>\n",
       "      <td>Washington</td>\n",
       "      <td>1999-04-21</td>\n",
       "      <td>Anderson Island, Pierce, Washington, United St...</td>\n",
       "      <td>Tacoma, Pierce County, Washington, USA</td>\n",
       "      <td>Frank Macaluso</td>\n",
       "      <td>[F0005]</td>\n",
       "      <td>1884-04-21</td>\n",
       "      <td>Alimena, Sicilia, Italy</td>\n",
       "      <td>16 February 1976</td>\n",
       "      <td>Tacoma, Pierce, Washington, United States of A...</td>\n",
       "      <td>NaN</td>\n",
       "      <td>Joseph Macaluso</td>\n",
       "      <td>1892</td>\n",
       "      <td>Italy</td>\n",
       "      <td>1965-03-03</td>\n",
       "      <td>Tacoma</td>\n",
       "      <td>NaN</td>\n",
       "      <td>Francesca Romano</td>\n",
       "    </tr>\n",
       "    <tr>\n",
       "      <th>332</th>\n",
       "      <td>[P9]</td>\n",
       "      <td>Macaluso</td>\n",
       "      <td>James Joseph</td>\n",
       "      <td>male</td>\n",
       "      <td>NaN</td>\n",
       "      <td>NaN</td>\n",
       "      <td>about 1969</td>\n",
       "      <td>NaN</td>\n",
       "      <td>NaN</td>\n",
       "      <td>James Joseph Macaluso</td>\n",
       "      <td>NaN</td>\n",
       "      <td>NaN</td>\n",
       "      <td>NaN</td>\n",
       "      <td>NaN</td>\n",
       "      <td>NaN</td>\n",
       "      <td>NaN</td>\n",
       "      <td>NaN</td>\n",
       "      <td>NaN</td>\n",
       "      <td>NaN</td>\n",
       "      <td>NaN</td>\n",
       "      <td>NaN</td>\n",
       "      <td>NaN</td>\n",
       "      <td>NaN</td>\n",
       "    </tr>\n",
       "    <tr>\n",
       "      <th>333</th>\n",
       "      <td>[P34]</td>\n",
       "      <td>Macaluso</td>\n",
       "      <td>Joseph</td>\n",
       "      <td>male</td>\n",
       "      <td>about 1934</td>\n",
       "      <td>Tacoma, Pierce County, Washington, USA</td>\n",
       "      <td>NaN</td>\n",
       "      <td>NaN</td>\n",
       "      <td>NaN</td>\n",
       "      <td>Joseph Macaluso</td>\n",
       "      <td>[F0005]</td>\n",
       "      <td>1884-04-21</td>\n",
       "      <td>Alimena, Sicilia, Italy</td>\n",
       "      <td>16 February 1976</td>\n",
       "      <td>Tacoma, Pierce, Washington, United States of A...</td>\n",
       "      <td>NaN</td>\n",
       "      <td>Joseph Macaluso</td>\n",
       "      <td>1892</td>\n",
       "      <td>Italy</td>\n",
       "      <td>1965-03-03</td>\n",
       "      <td>Tacoma</td>\n",
       "      <td>NaN</td>\n",
       "      <td>Francesca Romano</td>\n",
       "    </tr>\n",
       "    <tr>\n",
       "      <th>334</th>\n",
       "      <td>[P30]</td>\n",
       "      <td>Macaluso</td>\n",
       "      <td>Mary</td>\n",
       "      <td>female</td>\n",
       "      <td>about 1917</td>\n",
       "      <td>Washington</td>\n",
       "      <td>NaN</td>\n",
       "      <td>NaN</td>\n",
       "      <td>NaN</td>\n",
       "      <td>Mary Macaluso</td>\n",
       "      <td>[F0005]</td>\n",
       "      <td>1884-04-21</td>\n",
       "      <td>Alimena, Sicilia, Italy</td>\n",
       "      <td>16 February 1976</td>\n",
       "      <td>Tacoma, Pierce, Washington, United States of A...</td>\n",
       "      <td>NaN</td>\n",
       "      <td>Joseph Macaluso</td>\n",
       "      <td>1892</td>\n",
       "      <td>Italy</td>\n",
       "      <td>1965-03-03</td>\n",
       "      <td>Tacoma</td>\n",
       "      <td>NaN</td>\n",
       "      <td>Francesca Romano</td>\n",
       "    </tr>\n",
       "  </tbody>\n",
       "</table>\n",
       "</div>"
      ],
      "text/plain": [
       "    PersonKey   Surname         Given  Gender   BirthDate  \\\n",
       "331     [P28]  Macaluso         Frank    male  1913-11-11   \n",
       "332      [P9]  Macaluso  James Joseph    male         NaN   \n",
       "333     [P34]  Macaluso        Joseph    male  about 1934   \n",
       "334     [P30]  Macaluso          Mary  female  about 1917   \n",
       "\n",
       "                                 BirthPlace   DeathDate  \\\n",
       "331                              Washington  1999-04-21   \n",
       "332                                     NaN  about 1969   \n",
       "333  Tacoma, Pierce County, Washington, USA         NaN   \n",
       "334                              Washington         NaN   \n",
       "\n",
       "                                            DeathPlace  \\\n",
       "331  Anderson Island, Pierce, Washington, United St...   \n",
       "332                                                NaN   \n",
       "333                                                NaN   \n",
       "334                                                NaN   \n",
       "\n",
       "                                BurialPlace                   Name   Family  \\\n",
       "331  Tacoma, Pierce County, Washington, USA         Frank Macaluso  [F0005]   \n",
       "332                                     NaN  James Joseph Macaluso      NaN   \n",
       "333                                     NaN        Joseph Macaluso  [F0005]   \n",
       "334                                     NaN          Mary Macaluso  [F0005]   \n",
       "\n",
       "    FatherBirthDate         FatherBirthPlace   FatherDeathDate  \\\n",
       "331      1884-04-21  Alimena, Sicilia, Italy  16 February 1976   \n",
       "332             NaN                      NaN               NaN   \n",
       "333      1884-04-21  Alimena, Sicilia, Italy  16 February 1976   \n",
       "334      1884-04-21  Alimena, Sicilia, Italy  16 February 1976   \n",
       "\n",
       "                                      FatherDeathPlace FatherBurialPlace  \\\n",
       "331  Tacoma, Pierce, Washington, United States of A...               NaN   \n",
       "332                                                NaN               NaN   \n",
       "333  Tacoma, Pierce, Washington, United States of A...               NaN   \n",
       "334  Tacoma, Pierce, Washington, United States of A...               NaN   \n",
       "\n",
       "          FatherName MotherBirthDate MotherBirthPlace MotherDeathDate  \\\n",
       "331  Joseph Macaluso            1892            Italy      1965-03-03   \n",
       "332              NaN             NaN              NaN             NaN   \n",
       "333  Joseph Macaluso            1892            Italy      1965-03-03   \n",
       "334  Joseph Macaluso            1892            Italy      1965-03-03   \n",
       "\n",
       "    MotherDeathPlace MotherBurialPlace        MotherName  \n",
       "331           Tacoma               NaN  Francesca Romano  \n",
       "332              NaN               NaN               NaN  \n",
       "333           Tacoma               NaN  Francesca Romano  \n",
       "334           Tacoma               NaN  Francesca Romano  "
      ]
     },
     "execution_count": 245,
     "metadata": {},
     "output_type": "execute_result"
    }
   ],
   "source": [
    "df.ix[331:334]"
   ]
  },
  {
   "cell_type": "markdown",
   "metadata": {},
   "source": [
    "Let's take a quick detour here.  You see the name \"Joseph\" listed multiple times here, so let's look into family names.  Since this is roughly as far back for records on my dad's side, I know \"William\" and \"Bryan\" are very popular on my mom's side.  I'm going to put together a histogram to see what pops up."
   ]
  },
  {
   "cell_type": "code",
   "execution_count": 246,
   "metadata": {
    "collapsed": false
   },
   "outputs": [
    {
     "data": {
      "text/plain": [
       "John         36\n",
       "William      34\n",
       "Elizabeth    26\n",
       "Sarah        19\n",
       "Mary         17\n",
       "Thomas       16\n",
       "James        16\n",
       "Joseph       14\n",
       "Ann          12\n",
       "Margaret      9\n",
       "dtype: int64"
      ]
     },
     "execution_count": 246,
     "metadata": {},
     "output_type": "execute_result"
    }
   ],
   "source": [
    "# family_name = df.groupby('Given').size()\n",
    "# family_name.sort_values(ascending = False)\n",
    "\n",
    "# Splitting to account for middle names listed within the 'Given' column\n",
    "family_names = [str(name).split() for name in df['Given'].dropna()]\n",
    "\n",
    "# Flattening, removing abbreviations, and transforming into a series to speed things up\n",
    "family_names = [item for sublist in family_names for item in sublist]\n",
    "family_names = pd.Series([word if len(word) > 2 else np.NaN for word in family_names]).dropna()\n",
    "\n",
    "family_names = family_names.value_counts()\n",
    "\n",
    "# Top 10 names\n",
    "family_names[:10]\n",
    "# family_names.plot(figsize = (15,10))"
   ]
  },
  {
   "cell_type": "markdown",
   "metadata": {},
   "source": [
    "So William can definitely be considered a family name, but where is Bryan?  Or am I just biased because that's one of my middle names?"
   ]
  },
  {
   "cell_type": "code",
   "execution_count": 247,
   "metadata": {
    "collapsed": false
   },
   "outputs": [
    {
     "data": {
      "text/plain": [
       "Bryan    4\n",
       "dtype: int64"
      ]
     },
     "execution_count": 247,
     "metadata": {},
     "output_type": "execute_result"
    }
   ],
   "source": [
    "family_names[family_names.index == 'Bryan']"
   ]
  },
  {
   "cell_type": "markdown",
   "metadata": {},
   "source": [
    "Ok, that's a lot lower than I would have thought.  What about the histogram I mentioned?\n",
    "\n",
    "I'll just use the top 20 names here since there theoretically wouldn't be more than that."
   ]
  },
  {
   "cell_type": "code",
   "execution_count": 248,
   "metadata": {
    "collapsed": false
   },
   "outputs": [
    {
     "data": {
      "image/png": "[encoded data removed]",
      "text/plain": [
       "<matplotlib.figure.Figure at 0x2d58701e860>"
      ]
     },
     "metadata": {},
     "output_type": "display_data"
    }
   ],
   "source": [
    "ax = family_names[:20].plot(kind = \"barh\", figsize = (15,10), title = \"Histogram of Family Names\")\n",
    "ax.set_xlabel(\"Names\")\n",
    "ax.set_ylabel(\"Occurrences\")\n",
    "\n",
    "plt.gca().invert_yaxis()  # For descending order"
   ]
  },
  {
   "cell_type": "markdown",
   "metadata": {},
   "source": [
    "When I initially did this, my data frame contained duplicates, and I saw the name \"Keturah\" appear with 6 instances.  I have never heard this name in the family before, so I decided to take a look at these records:"
   ]
  },
  {
   "cell_type": "code",
   "execution_count": 249,
   "metadata": {
    "collapsed": false
   },
   "outputs": [
    {
     "data": {
      "text/html": [
       "<div>\n",
       "<table border=\"1\" class=\"dataframe\">\n",
       "  <thead>\n",
       "    <tr style=\"text-align: right;\">\n",
       "      <th></th>\n",
       "      <th>PersonKey</th>\n",
       "      <th>Surname</th>\n",
       "      <th>Given</th>\n",
       "      <th>Gender</th>\n",
       "      <th>BirthDate</th>\n",
       "      <th>BirthPlace</th>\n",
       "      <th>DeathDate</th>\n",
       "      <th>DeathPlace</th>\n",
       "      <th>BurialPlace</th>\n",
       "      <th>Name</th>\n",
       "      <th>Family</th>\n",
       "      <th>FatherBirthDate</th>\n",
       "      <th>FatherBirthPlace</th>\n",
       "      <th>FatherDeathDate</th>\n",
       "      <th>FatherDeathPlace</th>\n",
       "      <th>FatherBurialPlace</th>\n",
       "      <th>FatherName</th>\n",
       "      <th>MotherBirthDate</th>\n",
       "      <th>MotherBirthPlace</th>\n",
       "      <th>MotherDeathDate</th>\n",
       "      <th>MotherDeathPlace</th>\n",
       "      <th>MotherBurialPlace</th>\n",
       "      <th>MotherName</th>\n",
       "    </tr>\n",
       "  </thead>\n",
       "  <tbody>\n",
       "    <tr>\n",
       "      <th>397</th>\n",
       "      <td>[P363]</td>\n",
       "      <td>Peddicord</td>\n",
       "      <td>Keturah</td>\n",
       "      <td>female</td>\n",
       "      <td>1706</td>\n",
       "      <td>St Annes Parish, Anne Arundel, Maryland, Unite...</td>\n",
       "      <td>1759-12-00</td>\n",
       "      <td>Baptism St Annes Parish, Anne Arundel, Marylan...</td>\n",
       "      <td>NaN</td>\n",
       "      <td>Keturah Peddicord</td>\n",
       "      <td>[F0056]</td>\n",
       "      <td>1669</td>\n",
       "      <td>Carroll's Manor, Frederick, Maryland, United S...</td>\n",
       "      <td>1732</td>\n",
       "      <td>Baltimore, Maryland, USA</td>\n",
       "      <td>NaN</td>\n",
       "      <td>John Peddicord</td>\n",
       "      <td>1677</td>\n",
       "      <td>Elk Ridge, Baltimore, Maryland, United States</td>\n",
       "      <td>1727</td>\n",
       "      <td>Baltimore, Baltimore, Maryland, United States</td>\n",
       "      <td>NaN</td>\n",
       "      <td>Sarah Dorsey</td>\n",
       "    </tr>\n",
       "    <tr>\n",
       "      <th>525</th>\n",
       "      <td>[P415]</td>\n",
       "      <td>Shipley</td>\n",
       "      <td>Keturah Roturah</td>\n",
       "      <td>female</td>\n",
       "      <td>1717-11-22</td>\n",
       "      <td>NaN</td>\n",
       "      <td>NaN</td>\n",
       "      <td>NaN</td>\n",
       "      <td>NaN</td>\n",
       "      <td>Keturah Roturah Shipley</td>\n",
       "      <td>[F0066]</td>\n",
       "      <td>1726-09-20</td>\n",
       "      <td>Parish, Anne Arundel, Maryland, USA</td>\n",
       "      <td>1789-06-12</td>\n",
       "      <td>Shipley Advent, Anne Arundel, Maryland, United...</td>\n",
       "      <td>NaN</td>\n",
       "      <td>George Shipley</td>\n",
       "      <td>1694-01-01</td>\n",
       "      <td>Ann Arundel Parish, Baltimore, Maryland, Unite...</td>\n",
       "      <td>1762-02-22</td>\n",
       "      <td>Baltimore, Baltimore, Maryland, United States</td>\n",
       "      <td>NaN</td>\n",
       "      <td>Katherine Ogg</td>\n",
       "    </tr>\n",
       "  </tbody>\n",
       "</table>\n",
       "</div>"
      ],
      "text/plain": [
       "    PersonKey    Surname            Given  Gender   BirthDate  \\\n",
       "397    [P363]  Peddicord          Keturah  female        1706   \n",
       "525    [P415]    Shipley  Keturah Roturah  female  1717-11-22   \n",
       "\n",
       "                                            BirthPlace   DeathDate  \\\n",
       "397  St Annes Parish, Anne Arundel, Maryland, Unite...  1759-12-00   \n",
       "525                                                NaN         NaN   \n",
       "\n",
       "                                            DeathPlace BurialPlace  \\\n",
       "397  Baptism St Annes Parish, Anne Arundel, Marylan...         NaN   \n",
       "525                                                NaN         NaN   \n",
       "\n",
       "                        Name   Family FatherBirthDate  \\\n",
       "397        Keturah Peddicord  [F0056]            1669   \n",
       "525  Keturah Roturah Shipley  [F0066]      1726-09-20   \n",
       "\n",
       "                                      FatherBirthPlace FatherDeathDate  \\\n",
       "397  Carroll's Manor, Frederick, Maryland, United S...            1732   \n",
       "525                Parish, Anne Arundel, Maryland, USA      1789-06-12   \n",
       "\n",
       "                                      FatherDeathPlace FatherBurialPlace  \\\n",
       "397                           Baltimore, Maryland, USA               NaN   \n",
       "525  Shipley Advent, Anne Arundel, Maryland, United...               NaN   \n",
       "\n",
       "         FatherName MotherBirthDate  \\\n",
       "397  John Peddicord            1677   \n",
       "525  George Shipley      1694-01-01   \n",
       "\n",
       "                                      MotherBirthPlace MotherDeathDate  \\\n",
       "397      Elk Ridge, Baltimore, Maryland, United States            1727   \n",
       "525  Ann Arundel Parish, Baltimore, Maryland, Unite...      1762-02-22   \n",
       "\n",
       "                                  MotherDeathPlace MotherBurialPlace  \\\n",
       "397  Baltimore, Baltimore, Maryland, United States               NaN   \n",
       "525  Baltimore, Baltimore, Maryland, United States               NaN   \n",
       "\n",
       "        MotherName  \n",
       "397   Sarah Dorsey  \n",
       "525  Katherine Ogg  "
      ]
     },
     "execution_count": 249,
     "metadata": {},
     "output_type": "execute_result"
    }
   ],
   "source": [
    "df[df['Given'].str.contains(\"Keturah\") == True]"
   ]
  },
  {
   "cell_type": "markdown",
   "metadata": {},
   "source": [
    "It looks like Keturah is the name of [Abraham's second wife](https://en.wikipedia.org/wiki/Keturah), which I suppose makes sense for ancestors from the colonial times to have that name."
   ]
  },
  {
   "cell_type": "code",
   "execution_count": 250,
   "metadata": {
    "collapsed": false
   },
   "outputs": [
    {
     "data": {
      "text/html": [
       "<div>\n",
       "<table border=\"1\" class=\"dataframe\">\n",
       "  <thead>\n",
       "    <tr style=\"text-align: right;\">\n",
       "      <th></th>\n",
       "      <th>PersonKey</th>\n",
       "      <th>Surname</th>\n",
       "      <th>Given</th>\n",
       "      <th>Gender</th>\n",
       "      <th>BirthDate</th>\n",
       "      <th>BirthPlace</th>\n",
       "      <th>DeathDate</th>\n",
       "      <th>DeathPlace</th>\n",
       "      <th>BurialPlace</th>\n",
       "      <th>Name</th>\n",
       "      <th>Family</th>\n",
       "      <th>FatherBirthDate</th>\n",
       "      <th>FatherBirthPlace</th>\n",
       "      <th>FatherDeathDate</th>\n",
       "      <th>FatherDeathPlace</th>\n",
       "      <th>FatherBurialPlace</th>\n",
       "      <th>FatherName</th>\n",
       "      <th>MotherBirthDate</th>\n",
       "      <th>MotherBirthPlace</th>\n",
       "      <th>MotherDeathDate</th>\n",
       "      <th>MotherDeathPlace</th>\n",
       "      <th>MotherBurialPlace</th>\n",
       "      <th>MotherName</th>\n",
       "    </tr>\n",
       "  </thead>\n",
       "  <tbody>\n",
       "    <tr>\n",
       "      <th>257</th>\n",
       "      <td>[P290]</td>\n",
       "      <td>JOHNSON</td>\n",
       "      <td>John Craddock</td>\n",
       "      <td>male</td>\n",
       "      <td>1805-10-23</td>\n",
       "      <td>Maryland, United States</td>\n",
       "      <td>1807-01-00</td>\n",
       "      <td>NaN</td>\n",
       "      <td>NaN</td>\n",
       "      <td>John Craddock JOHNSON</td>\n",
       "      <td>[F0043]</td>\n",
       "      <td>1781-10-17</td>\n",
       "      <td>Western Run, Baltimore, Maryland, United States</td>\n",
       "      <td>1829-09-24</td>\n",
       "      <td>Baltimore, Maryland, United States</td>\n",
       "      <td>Doubs, Frederick County, Maryland, USA</td>\n",
       "      <td>Fayette Johnson</td>\n",
       "      <td>1784-10-09</td>\n",
       "      <td>Worthington Valley, Baltimore, Maryland, Unite...</td>\n",
       "      <td>1816-07-12</td>\n",
       "      <td>Baltimore, Maryland, USA</td>\n",
       "      <td>NaN</td>\n",
       "      <td>Elizabeth Cradock</td>\n",
       "    </tr>\n",
       "    <tr>\n",
       "      <th>290</th>\n",
       "      <td>[P284]</td>\n",
       "      <td>Johnson</td>\n",
       "      <td>John Craddock</td>\n",
       "      <td>male</td>\n",
       "      <td>1805-10-23</td>\n",
       "      <td>Maryland, United States</td>\n",
       "      <td>1807-01-00</td>\n",
       "      <td>NaN</td>\n",
       "      <td>NaN</td>\n",
       "      <td>John Craddock Johnson</td>\n",
       "      <td>[F0043]</td>\n",
       "      <td>1781-10-17</td>\n",
       "      <td>Western Run, Baltimore, Maryland, United States</td>\n",
       "      <td>1829-09-24</td>\n",
       "      <td>Baltimore, Maryland, United States</td>\n",
       "      <td>Doubs, Frederick County, Maryland, USA</td>\n",
       "      <td>Fayette Johnson</td>\n",
       "      <td>1784-10-09</td>\n",
       "      <td>Worthington Valley, Baltimore, Maryland, Unite...</td>\n",
       "      <td>1816-07-12</td>\n",
       "      <td>Baltimore, Maryland, USA</td>\n",
       "      <td>NaN</td>\n",
       "      <td>Elizabeth Cradock</td>\n",
       "    </tr>\n",
       "    <tr>\n",
       "      <th>307</th>\n",
       "      <td>[P74]</td>\n",
       "      <td>Johnson</td>\n",
       "      <td>Thomas Craddock</td>\n",
       "      <td>male</td>\n",
       "      <td>1810-02-25</td>\n",
       "      <td>Saint Thomas, Baltimore, Maryland</td>\n",
       "      <td>1888-03-10</td>\n",
       "      <td>Wilkinson, Mississippi, United States</td>\n",
       "      <td>NaN</td>\n",
       "      <td>Thomas Craddock Johnson</td>\n",
       "      <td>[F0043]</td>\n",
       "      <td>1781-10-17</td>\n",
       "      <td>Western Run, Baltimore, Maryland, United States</td>\n",
       "      <td>1829-09-24</td>\n",
       "      <td>Baltimore, Maryland, United States</td>\n",
       "      <td>Doubs, Frederick County, Maryland, USA</td>\n",
       "      <td>Fayette Johnson</td>\n",
       "      <td>1784-10-09</td>\n",
       "      <td>Worthington Valley, Baltimore, Maryland, Unite...</td>\n",
       "      <td>1816-07-12</td>\n",
       "      <td>Baltimore, Maryland, USA</td>\n",
       "      <td>NaN</td>\n",
       "      <td>Elizabeth Cradock</td>\n",
       "    </tr>\n",
       "    <tr>\n",
       "      <th>308</th>\n",
       "      <td>[P79]</td>\n",
       "      <td>Johnson</td>\n",
       "      <td>Thomas Craddock</td>\n",
       "      <td>male</td>\n",
       "      <td>1880-02-22</td>\n",
       "      <td>Wilkinson County, Mississippi USA</td>\n",
       "      <td>1972-04-05</td>\n",
       "      <td>Crosby, Amite County, Mississippi USA</td>\n",
       "      <td>NaN</td>\n",
       "      <td>Thomas Craddock Johnson</td>\n",
       "      <td>[F0015]</td>\n",
       "      <td>1854-03-00</td>\n",
       "      <td>Mississippi</td>\n",
       "      <td>1945-08-19</td>\n",
       "      <td>Mississippi, United States</td>\n",
       "      <td>NaN</td>\n",
       "      <td>Thomas Adolphus Johnson</td>\n",
       "      <td>1855-09-09</td>\n",
       "      <td>Mississippi</td>\n",
       "      <td>2 February 1896</td>\n",
       "      <td>Wilkinson,Missisippi,USA</td>\n",
       "      <td>NaN</td>\n",
       "      <td>Ella Ruth Anderson</td>\n",
       "    </tr>\n",
       "  </tbody>\n",
       "</table>\n",
       "</div>"
      ],
      "text/plain": [
       "    PersonKey  Surname            Given Gender   BirthDate  \\\n",
       "257    [P290]  JOHNSON    John Craddock   male  1805-10-23   \n",
       "290    [P284]  Johnson    John Craddock   male  1805-10-23   \n",
       "307     [P74]  Johnson  Thomas Craddock   male  1810-02-25   \n",
       "308     [P79]  Johnson  Thomas Craddock   male  1880-02-22   \n",
       "\n",
       "                            BirthPlace   DeathDate  \\\n",
       "257            Maryland, United States  1807-01-00   \n",
       "290            Maryland, United States  1807-01-00   \n",
       "307  Saint Thomas, Baltimore, Maryland  1888-03-10   \n",
       "308  Wilkinson County, Mississippi USA  1972-04-05   \n",
       "\n",
       "                                DeathPlace BurialPlace  \\\n",
       "257                                    NaN         NaN   \n",
       "290                                    NaN         NaN   \n",
       "307  Wilkinson, Mississippi, United States         NaN   \n",
       "308  Crosby, Amite County, Mississippi USA         NaN   \n",
       "\n",
       "                        Name   Family FatherBirthDate  \\\n",
       "257    John Craddock JOHNSON  [F0043]      1781-10-17   \n",
       "290    John Craddock Johnson  [F0043]      1781-10-17   \n",
       "307  Thomas Craddock Johnson  [F0043]      1781-10-17   \n",
       "308  Thomas Craddock Johnson  [F0015]      1854-03-00   \n",
       "\n",
       "                                    FatherBirthPlace FatherDeathDate  \\\n",
       "257  Western Run, Baltimore, Maryland, United States      1829-09-24   \n",
       "290  Western Run, Baltimore, Maryland, United States      1829-09-24   \n",
       "307  Western Run, Baltimore, Maryland, United States      1829-09-24   \n",
       "308                                      Mississippi      1945-08-19   \n",
       "\n",
       "                       FatherDeathPlace  \\\n",
       "257  Baltimore, Maryland, United States   \n",
       "290  Baltimore, Maryland, United States   \n",
       "307  Baltimore, Maryland, United States   \n",
       "308          Mississippi, United States   \n",
       "\n",
       "                          FatherBurialPlace               FatherName  \\\n",
       "257  Doubs, Frederick County, Maryland, USA          Fayette Johnson   \n",
       "290  Doubs, Frederick County, Maryland, USA          Fayette Johnson   \n",
       "307  Doubs, Frederick County, Maryland, USA          Fayette Johnson   \n",
       "308                                     NaN  Thomas Adolphus Johnson   \n",
       "\n",
       "    MotherBirthDate                                   MotherBirthPlace  \\\n",
       "257      1784-10-09  Worthington Valley, Baltimore, Maryland, Unite...   \n",
       "290      1784-10-09  Worthington Valley, Baltimore, Maryland, Unite...   \n",
       "307      1784-10-09  Worthington Valley, Baltimore, Maryland, Unite...   \n",
       "308      1855-09-09                                        Mississippi   \n",
       "\n",
       "     MotherDeathDate          MotherDeathPlace MotherBurialPlace  \\\n",
       "257       1816-07-12  Baltimore, Maryland, USA               NaN   \n",
       "290       1816-07-12  Baltimore, Maryland, USA               NaN   \n",
       "307       1816-07-12  Baltimore, Maryland, USA               NaN   \n",
       "308  2 February 1896  Wilkinson,Missisippi,USA               NaN   \n",
       "\n",
       "             MotherName  \n",
       "257   Elizabeth Cradock  \n",
       "290   Elizabeth Cradock  \n",
       "307   Elizabeth Cradock  \n",
       "308  Ella Ruth Anderson  "
      ]
     },
     "execution_count": 250,
     "metadata": {},
     "output_type": "execute_result"
    }
   ],
   "source": [
    "df[df['Given'].str.contains(\"Craddock\") == True]"
   ]
  },
  {
   "cell_type": "code",
   "execution_count": 251,
   "metadata": {
    "collapsed": false,
    "scrolled": true
   },
   "outputs": [
    {
     "data": {
      "text/plain": [
       "<matplotlib.axes._subplots.AxesSubplot at 0x2d58aadf470>"
      ]
     },
     "execution_count": 251,
     "metadata": {},
     "output_type": "execute_result"
    },
    {
     "data": {
      "image/png": "[encoded data removed]",
      "text/plain": [
       "<matplotlib.figure.Figure at 0x2d58a2ae898>"
      ]
     },
     "metadata": {},
     "output_type": "display_data"
    }
   ],
   "source": [
    "sns.countplot(x = \"Gender\", data = df)"
   ]
  },
  {
   "cell_type": "code",
   "execution_count": 252,
   "metadata": {
    "collapsed": false
   },
   "outputs": [
    {
     "data": {
      "text/plain": [
       "<matplotlib.axes._subplots.AxesSubplot at 0x2d58ad5d978>"
      ]
     },
     "execution_count": 252,
     "metadata": {},
     "output_type": "execute_result"
    },
    {
     "data": {
      "image/png": "[encoded data removed]",
      "text/plain": [
       "<matplotlib.figure.Figure at 0x2d58aeedac8>"
      ]
     },
     "metadata": {},
     "output_type": "display_data"
    }
   ],
   "source": [
    "# Frequency of surnames\n",
    "Surname = df[['Surname', 'PersonKey']].dropna()\n",
    "Surname = Surname.groupby('Surname').count()\n",
    "Surname = Surname.sort_values(by = 'PersonKey', ascending = 0)\n",
    "# sns.barplot(x = \"PersonKey\", y = \"Surname\", data = Surname)\n",
    "Surname[:15].plot(kind = 'barh', figsize = (15, 7), legend = False)\n",
    "# sns.countplot(y='Surname', data=Surname[:15], palette=\"Greens_d\");"
   ]
  },
  {
   "cell_type": "code",
   "execution_count": 253,
   "metadata": {
    "collapsed": false
   },
   "outputs": [],
   "source": [
    "# Creating a dictionary of states and their codes to extract places into states\n",
    "states = {\n",
    "    'Alabama': 'AL',\n",
    "    'Alaska': 'AK',\n",
    "    'Arizona': 'AZ',\n",
    "    'Arkansas': 'AR',\n",
    "    'California': 'CA',\n",
    "    'Colorado': 'CO',\n",
    "    'Connecticut': 'CT',\n",
    "    'Delaware': 'DE',\n",
    "    'Florida': 'FL',\n",
    "    'Georgia': 'GA',\n",
    "    'Hawaii': 'HI',\n",
    "    'Idaho': 'ID',\n",
    "    'Illinois': 'IL',\n",
    "    'Indiana': 'IN',\n",
    "    'Iowa': 'IA',\n",
    "    'Kansas': 'KS',\n",
    "    'Kentucky': 'KY',\n",
    "    'Louisiana': 'LA',\n",
    "    'Maine': 'ME',\n",
    "    'Maryland': 'MD',\n",
    "    'Massachusetts': 'MA',\n",
    "    'Michigan': 'MI',\n",
    "    'Minnesota': 'MN',\n",
    "    'Mississippi': 'MS',\n",
    "    'Missisippi': 'MS',  # to account for spelling errors\n",
    "    'Missouri': 'MO',\n",
    "    'Montana': 'MT',\n",
    "    'Nebraska': 'NE',\n",
    "    'Nevada': 'NV',\n",
    "    'New Hampshire': 'NH',\n",
    "    'New Jersey': 'NJ',\n",
    "    'New Mexico': 'NM',\n",
    "    'New York': 'NY',\n",
    "    'North Carolina': 'NC',\n",
    "    'North Dakota': 'ND',\n",
    "    'Ohio': 'OH',\n",
    "    'Oklahoma': 'OK',\n",
    "    'Oregon': 'OR',\n",
    "    'Pennsylvania': 'PA',\n",
    "    'Rhode Island': 'RI',\n",
    "    'South Carolina': 'SC',\n",
    "    'South Dakota': 'SD',\n",
    "    'Tennessee': 'TN',\n",
    "    'Texas': 'TX',\n",
    "    'Utah': 'UT',\n",
    "    'Vermont': 'VT',\n",
    "    'Virginia': 'VA',\n",
    "    'Washington': 'WA',\n",
    "    'West Virginia': 'WV',\n",
    "    'Wisconsin': 'WI',\n",
    "    'Wyoming': 'WY',\n",
    "}\n",
    "\n",
    "# Reverses the above dictionary to extract state abbreviations using the same function\n",
    "states_reverse = dict(zip(states.values(),states.keys()))"
   ]
  },
  {
   "cell_type": "code",
   "execution_count": 254,
   "metadata": {
    "collapsed": false
   },
   "outputs": [
    {
     "data": {
      "text/html": [
       "<div>\n",
       "<table border=\"1\" class=\"dataframe\">\n",
       "  <thead>\n",
       "    <tr style=\"text-align: right;\">\n",
       "      <th></th>\n",
       "      <th>BirthPlace</th>\n",
       "      <th>BirthState</th>\n",
       "      <th>DeathPlace</th>\n",
       "      <th>DeathState</th>\n",
       "      <th>FatherBirthState</th>\n",
       "      <th>MotherBirthState</th>\n",
       "    </tr>\n",
       "  </thead>\n",
       "  <tbody>\n",
       "    <tr>\n",
       "      <th>0</th>\n",
       "      <td>Mississippi</td>\n",
       "      <td>Mississippi</td>\n",
       "      <td>NaN</td>\n",
       "      <td>NaN</td>\n",
       "      <td>Mississippi</td>\n",
       "      <td>Mississippi</td>\n",
       "    </tr>\n",
       "    <tr>\n",
       "      <th>1</th>\n",
       "      <td>South Carolina, USA</td>\n",
       "      <td>South Carolina</td>\n",
       "      <td>Winston, Mississippi, United States</td>\n",
       "      <td>Mississippi</td>\n",
       "      <td>NaN</td>\n",
       "      <td>NaN</td>\n",
       "    </tr>\n",
       "    <tr>\n",
       "      <th>2</th>\n",
       "      <td>,, Sc</td>\n",
       "      <td>South Carolina</td>\n",
       "      <td>NaN</td>\n",
       "      <td>NaN</td>\n",
       "      <td>NaN</td>\n",
       "      <td>NaN</td>\n",
       "    </tr>\n",
       "    <tr>\n",
       "      <th>3</th>\n",
       "      <td>Davie, North Carolina, United States</td>\n",
       "      <td>North Carolina</td>\n",
       "      <td>St Stephen, Greene, Alabama, United States</td>\n",
       "      <td>Alabama</td>\n",
       "      <td>NaN</td>\n",
       "      <td>NaN</td>\n",
       "    </tr>\n",
       "  </tbody>\n",
       "</table>\n",
       "</div>"
      ],
      "text/plain": [
       "                             BirthPlace      BirthState  \\\n",
       "0                           Mississippi     Mississippi   \n",
       "1                   South Carolina, USA  South Carolina   \n",
       "2                                 ,, Sc  South Carolina   \n",
       "3  Davie, North Carolina, United States  North Carolina   \n",
       "\n",
       "                                   DeathPlace   DeathState FatherBirthState  \\\n",
       "0                                         NaN          NaN      Mississippi   \n",
       "1         Winston, Mississippi, United States  Mississippi              NaN   \n",
       "2                                         NaN          NaN              NaN   \n",
       "3  St Stephen, Greene, Alabama, United States      Alabama              NaN   \n",
       "\n",
       "  MotherBirthState  \n",
       "0      Mississippi  \n",
       "1              NaN  \n",
       "2              NaN  \n",
       "3              NaN  "
      ]
     },
     "execution_count": 254,
     "metadata": {},
     "output_type": "execute_result"
    }
   ],
   "source": [
    "# Extracting the state from various addresses\n",
    "def state_extract(dict1, dict2, column):\n",
    "    \"\"\"\n",
    "    Extracts the state from the place columns if any part of the record exists \n",
    "    within the state dictionary or reverse state dictionary\n",
    "    \n",
    "    dict1 is the regular state dictionary, dict2 is the reverse state dictionary for state abbreviations\n",
    "    \"\"\"\n",
    "    return pd.Series([[state.strip() for state in cell.split(',')\n",
    "               if state.strip() in dict1\n",
    "                   or state.strip().upper() in dict2]  # dict2 for state abbreviations\n",
    "              for cell in column.fillna(\"null\")])\n",
    "    \n",
    "    \n",
    "# Running functions to extract the states into series\n",
    "BirthState = state_extract(states, states_reverse, df['BirthPlace'])\n",
    "DeathState = state_extract(states, states_reverse, df['DeathPlace'])\n",
    "\n",
    "FatherBirthState = state_extract(states, states_reverse, df['FatherBirthPlace'])\n",
    "FatherDeathState = state_extract(states, states_reverse, df['FatherDeathPlace'])\n",
    "\n",
    "MotherBirthState = state_extract(states, states_reverse, df['MotherBirthPlace'])\n",
    "MotherDeathState = state_extract(states, states_reverse, df['MotherDeathPlace'])\n",
    "\n",
    "\n",
    "# Assigns series generated from the function to columns and removes brackets surrounding values\n",
    "df['BirthState'] = BirthState.apply(lambda s: s[-1] if s else np.NaN)\n",
    "df['DeathState'] = DeathState.apply(lambda s: s[-1] if s else np.NaN)\n",
    "\n",
    "df['FatherBirthState'] = FatherBirthState.apply(lambda s: s[-1] if s else np.NaN)\n",
    "df['FatherDeathState'] = FatherDeathState.apply(lambda s: s[-1] if s else np.NaN)\n",
    "\n",
    "df['MotherBirthState'] = MotherBirthState.apply(lambda s: s[-1] if s else np.NaN)\n",
    "df['MotherDeathState'] = MotherDeathState.apply(lambda s: s[-1] if s else np.NaN)\n",
    "\n",
    "\n",
    "# Converts from abbreviated state to full state name in title case\n",
    "df['BirthState'] = df['BirthState'].str.upper().replace(states_reverse).str.title()\n",
    "df['DeathState'] = df['DeathState'].str.upper().replace(states_reverse).str.title()\n",
    "\n",
    "df['FatherBirthState'] = df['FatherBirthState'].str.upper().replace(states_reverse).str.title()\n",
    "df['FatherDeathState'] = df['FatherDeathState'].str.upper().replace(states_reverse).str.title()\n",
    "\n",
    "df['MotherBirthState'] = df['MotherBirthState'].str.upper().replace(states_reverse).str.title()\n",
    "df['MotherDeathState'] = df['MotherDeathState'].str.upper().replace(states_reverse).str.title()\n",
    "\n",
    "df[['BirthPlace', 'BirthState', 'DeathPlace', 'DeathState', 'FatherBirthState', 'MotherBirthState']].ix[:3]"
   ]
  },
  {
   "cell_type": "code",
   "execution_count": 255,
   "metadata": {
    "collapsed": false
   },
   "outputs": [],
   "source": [
    "# Adjust for \"Missisippi\" spelling error\n",
    "df.replace(\"Missisippi\", \"Mississippi\", inplace = True)"
   ]
  },
  {
   "cell_type": "code",
   "execution_count": 256,
   "metadata": {
    "collapsed": false
   },
   "outputs": [
    {
     "data": {
      "text/plain": [
       "<matplotlib.axes._subplots.AxesSubplot at 0x2d58ad58c50>"
      ]
     },
     "execution_count": 256,
     "metadata": {},
     "output_type": "execute_result"
    },
    {
     "data": {
      "image/png": "[encoded data removed]",
      "text/plain": [
       "<matplotlib.figure.Figure at 0x2d58adce6d8>"
      ]
     },
     "metadata": {},
     "output_type": "display_data"
    }
   ],
   "source": [
    "fig, ax = plt.subplots()\n",
    "\n",
    "fig.set_size_inches(10, 10)\n",
    "sns.countplot(y = 'BirthState', data = df)"
   ]
  },
  {
   "cell_type": "code",
   "execution_count": 257,
   "metadata": {
    "collapsed": false
   },
   "outputs": [
    {
     "data": {
      "text/plain": [
       "<matplotlib.axes._subplots.AxesSubplot at 0x2d58b0a2518>"
      ]
     },
     "execution_count": 257,
     "metadata": {},
     "output_type": "execute_result"
    },
    {
     "data": {
      "image/png": "[encoded data removed]",
      "text/plain": [
       "<matplotlib.figure.Figure at 0x2d58b0a8b00>"
      ]
     },
     "metadata": {},
     "output_type": "display_data"
    }
   ],
   "source": [
    "fig, ax = plt.subplots()\n",
    "# the size of A4 paper\n",
    "fig.set_size_inches(10, 10)\n",
    "sns.countplot(y = 'DeathState', data = df)"
   ]
  },
  {
   "cell_type": "code",
   "execution_count": 258,
   "metadata": {
    "collapsed": false
   },
   "outputs": [],
   "source": [
    "# Creates binary columns to show if the individual died where they were born and if they're currently alive\n",
    "df['BirthState'].fillna(np.NaN)\n",
    "df['DiedWhereBorn'] = np.where(df['BirthState'] == df['DeathState'], 1, np.where(df['DeathState'].isnull(), np.NaN, 0))  # Also add NaN\n",
    "df['IsAlive'] = np.where(df['DeathPlace'].notnull() == True, 1, np.where(df['BirthState'].isnull(), np.NaN, 0))"
   ]
  },
  {
   "cell_type": "code",
   "execution_count": 259,
   "metadata": {
    "collapsed": false
   },
   "outputs": [],
   "source": [
    "# Creates binary columns for if the individual was born in their mother or father's states.  Will be used to calculate mobility\n",
    "df['BornInFatherState'] = np.where(df['BirthState'] == df['FatherBirthState'], 1, np.where(df['FatherBirthState'].isnull(), np.NaN, 0))\n",
    "df['BornInMotherState'] = np.where(df['BirthState'] == df['MotherBirthState'], 1, np.where(df['MotherBirthState'].isnull(), np.NaN, 0))"
   ]
  },
  {
   "cell_type": "code",
   "execution_count": 260,
   "metadata": {
    "collapsed": false
   },
   "outputs": [
    {
     "data": {
      "text/plain": [
       "<matplotlib.axes._subplots.AxesSubplot at 0x2d58b2ee6a0>"
      ]
     },
     "execution_count": 260,
     "metadata": {},
     "output_type": "execute_result"
    },
    {
     "data": {
      "image/png": "[encoded data removed]",
      "text/plain": [
       "<matplotlib.figure.Figure at 0x2d58b26e358>"
      ]
     },
     "metadata": {},
     "output_type": "display_data"
    }
   ],
   "source": [
    "fig, ax = plt.subplots()\n",
    "fig.set_size_inches(15, 7)\n",
    "\n",
    "sns.countplot(x = 'DiedWhereBorn', data = df)"
   ]
  },
  {
   "cell_type": "markdown",
   "metadata": {},
   "source": [
    "I checked unique values after extracting the United States out of all birth place columns and filtered them to not include it to check if this dictionary contained everything.  This list ended up being more comprehensive, but I left it for future use for other GEDCOM files"
   ]
  },
  {
   "cell_type": "code",
   "execution_count": 261,
   "metadata": {
    "collapsed": true
   },
   "outputs": [],
   "source": [
    "countries = {\n",
    "    # Europe\n",
    "    'England': 'EN',\n",
    "    'Scotland': 'SC',\n",
    "    'Wales': 'WL',\n",
    "    'Ireland': 'IR',\n",
    "    'Rebpulic of Ireland': 'IR',\n",
    "    'Great Britain': 'GB',\n",
    "    'Britain': 'GB',\n",
    "    'United Kingdom': 'UK',\n",
    "    'Italy': 'IT',\n",
    "    'ITA': 'IT',\n",
    "    'Germany': 'DE',\n",
    "    'France': 'FR',\n",
    "    'Denmark': 'DR',\n",
    "    'Sweden': 'SW',\n",
    "    'Norway': 'NR',\n",
    "    'Canada': 'CN',\n",
    "    'Netherlands': 'ND',\n",
    "    'Spain': 'SP',\n",
    "    'Belgium': 'BG',\n",
    "    'Poland': 'PL',\n",
    "    'Austria': 'AR',\n",
    "    'Portugal': 'PR',\n",
    "    'Russia': 'RU',\n",
    "    'Hungary': 'HR',\n",
    "    'Slovakia': 'SL',\n",
    "    'Greece': 'GR',\n",
    "    \n",
    "    # North America\n",
    "    'United States': 'US',\n",
    "    'USA': 'US',\n",
    "    'US': 'US',\n",
    "    'Mexico': 'MX'\n",
    "}"
   ]
  },
  {
   "cell_type": "code",
   "execution_count": 262,
   "metadata": {
    "collapsed": false
   },
   "outputs": [
    {
     "data": {
      "text/plain": [
       "<matplotlib.axes._subplots.AxesSubplot at 0x2d58970fe48>"
      ]
     },
     "execution_count": 262,
     "metadata": {},
     "output_type": "execute_result"
    },
    {
     "data": {
      "image/png": "[encoded data removed]",
      "text/plain": [
       "<matplotlib.figure.Figure at 0x2d58b30e048>"
      ]
     },
     "metadata": {},
     "output_type": "display_data"
    }
   ],
   "source": [
    "# Extracting the country from birth addresses\n",
    "BirthCountry = pd.Series([[state.strip() for state in cell.split(',') \n",
    "                  if state.strip() in countries] \n",
    "                 for cell in df.BirthPlace.fillna(\"null\")])\n",
    "\n",
    "df['BirthCountry'] = BirthCountry.apply(lambda s: s[-1] if s else np.NaN)\n",
    "df['BirthCountry'] = np.where(df['BirthCountry'] == 'USA', 'United States', df['BirthCountry'])\n",
    "\n",
    "fig, ax = plt.subplots()\n",
    "\n",
    "fig.set_size_inches(15, 7)\n",
    "sns.countplot(y = 'BirthCountry', data = df)"
   ]
  },
  {
   "cell_type": "code",
   "execution_count": 281,
   "metadata": {
    "collapsed": false
   },
   "outputs": [],
   "source": [
    "# Binning the birth years into decades\n",
    "\n",
    "Years_int = np.arange(1500, 2020)  # To extract the birth and death years\n",
    "Years = [str(s) for s in Years_int]  # Changes the data type to a string to scan the column\n",
    "\n",
    "\n",
    "decades = np.arange(1600, 2020, 10)\n",
    "decades_labels = [(str(s)+\"'s\") for s in decades]  # Changes the data type to a string to scan the column\n",
    "del decades_labels[-1]  # Removes the last record to use as the labels in the pd.cut\n",
    "\n",
    "\n",
    "\n",
    "# Extracting the birth year from the date\n",
    "BirthYear = pd.Series([[date.strip() for date in cell.split(' ')\n",
    "                  if date.strip() in Years]\n",
    "                 for cell in df['BirthDate'].str.replace('-', ' ').fillna(\"null\")])\n",
    "\n",
    "# Applying the bins\n",
    "df['BirthYear'] = BirthYear.apply(lambda s: s[-1] if s else np.NaN)\n",
    "df['BirthYear'] = pd.to_numeric(df['BirthYear'])\n",
    "df['BirthDecade'] = pd.cut(df['BirthYear'], decades, labels = decades_labels)\n",
    "\n",
    "# df[['BirthDate', 'BirthYear', 'BirthDecade']]"
   ]
  },
  {
   "cell_type": "code",
   "execution_count": 295,
   "metadata": {
    "collapsed": false
   },
   "outputs": [],
   "source": [
    "# df['BirthYear'] = BirthYear\n",
    "# BirthYear\n",
    "# df['BirthYear'].tail()\n",
    "# df[['BirthDate', 'BirthYear', 'BirthDecade']].tail()"
   ]
  },
  {
   "cell_type": "code",
   "execution_count": 264,
   "metadata": {
    "collapsed": false
   },
   "outputs": [
    {
     "data": {
      "text/plain": [
       "<matplotlib.text.Text at 0x2d58926ce48>"
      ]
     },
     "execution_count": 264,
     "metadata": {},
     "output_type": "execute_result"
    },
    {
     "data": {
      "image/png": "[encoded data removed]",
      "text/plain": [
       "<matplotlib.figure.Figure at 0x2d58b74b4a8>"
      ]
     },
     "metadata": {},
     "output_type": "display_data"
    }
   ],
   "source": [
    "# Calculating ratios to view mobility of generations\n",
    "born_in_father_state_ratio = df['BornInFatherState'].groupby(df['BirthDecade']).sum() / df.groupby(['BirthDecade']).size()\n",
    "born_in_mother_state_ratio = df['BornInMotherState'].groupby(df['BirthDecade']).sum() / df.groupby(['BirthDecade']).size()\n",
    "\n",
    "BirthRatio = pd.concat([born_in_father_state_ratio, born_in_mother_state_ratio], axis=1)\n",
    "BirthRatio.columns = ['Father', 'Mother']\n",
    "\n",
    "ax = BirthRatio.dropna().plot(title = \"Born in Same State as Parents\", figsize = (15,10))\n",
    "ax.set_ylabel(\"Ratio\")\n",
    "ax.set_xlabel(\"Decade\")"
   ]
  },
  {
   "cell_type": "code",
   "execution_count": 265,
   "metadata": {
    "collapsed": false
   },
   "outputs": [
    {
     "data": {
      "text/plain": [
       "<matplotlib.text.Text at 0x2d58b97f5c0>"
      ]
     },
     "execution_count": 265,
     "metadata": {},
     "output_type": "execute_result"
    },
    {
     "data": {
      "image/png": "[encoded data removed]",
      "text/plain": [
       "<matplotlib.figure.Figure at 0x2d58b957fd0>"
      ]
     },
     "metadata": {},
     "output_type": "display_data"
    }
   ],
   "source": [
    "FatherStateBirthRatio = df['BornInFatherState'].groupby(df['BirthState']).sum() / df.groupby(['BirthState']).size()\n",
    "MotherStateBirthRatio = df['BornInMotherState'].groupby(df['BirthState']).sum() / df.groupby(['BirthState']).size()\n",
    "\n",
    "BirthRatioByState = pd.concat([FatherStateBirthRatio, MotherStateBirthRatio], axis=1)\n",
    "BirthRatioByState.columns = ['Father', 'Mother']\n",
    "ax = BirthRatioByState.plot(kind = \"barh\", figsize = (15, 10), title = \"Born in Same State as Parents\")\n",
    "ax.set_xlabel(\"Ratio\")\n",
    "ax.set_ylabel(\"State\")"
   ]
  },
  {
   "cell_type": "code",
   "execution_count": 266,
   "metadata": {
    "collapsed": false
   },
   "outputs": [
    {
     "data": {
      "text/plain": [
       "<matplotlib.text.Text at 0x2d58cc3fa90>"
      ]
     },
     "execution_count": 266,
     "metadata": {},
     "output_type": "execute_result"
    },
    {
     "data": {
      "image/png": "[encoded data removed]",
      "text/plain": [
       "<matplotlib.figure.Figure at 0x2d58b30e198>"
      ]
     },
     "metadata": {},
     "output_type": "display_data"
    }
   ],
   "source": [
    "DiedWhereBornRatio = df['DiedWhereBorn'].groupby(df['BirthState']).sum() / df.groupby(['BirthState']).size()\n",
    "DiedWhereBornRatio.plot(kind = \"barh\", figsize = (15,10), title = \"Died in Same State as Birth\").set_xlabel(\"Ratio\")"
   ]
  },
  {
   "cell_type": "code",
   "execution_count": 267,
   "metadata": {
    "collapsed": false
   },
   "outputs": [
    {
     "data": {
      "text/plain": [
       "<matplotlib.text.Text at 0x2d58aa70f28>"
      ]
     },
     "execution_count": 267,
     "metadata": {},
     "output_type": "execute_result"
    },
    {
     "data": {
      "image/png": "[encoded data removed]",
      "text/plain": [
       "<matplotlib.figure.Figure at 0x2d58a300dd8>"
      ]
     },
     "metadata": {},
     "output_type": "display_data"
    }
   ],
   "source": [
    "# To examine the trend of mobility by decade by ratios of population that died in the same state they were born in\n",
    "died_where_born_ratio = df['DiedWhereBorn'].groupby(df['BirthDecade']).sum() / df.groupby(['BirthDecade']).size()\n",
    "died_where_born_population = df['DiedWhereBorn'].groupby(df['BirthDecade']).count()  # To be used in the confidence\n",
    "died_where_born = pd.concat([died_where_born_ratio, died_where_born_population], axis=1)\n",
    "died_where_born.columns = ['Ratio', 'Confidence']\n",
    "\n",
    "# Assigns a normalized \"confidence\" score based off of the population\n",
    "died_where_born['Confidence'] -= died_where_born['Confidence'].min()\n",
    "died_where_born['Confidence'] /= died_where_born['Confidence'].max()\n",
    "# A \"Low Confidence\" bucket for the plot\n",
    "died_where_born['Low Confidence'] = np.where(died_where_born['Confidence'] < 0.25, 0, np.NaN)\n",
    "died_where_born['Low Confidence'] = np.where(died_where_born['Ratio'].isnull(), np.NaN, died_where_born['Low Confidence'])\n",
    "died_where_born.drop(['Confidence'], axis = 1, inplace = True)\n",
    "\n",
    "\n",
    "# sns.tsplot(data=died_where_born_ratio, xlab)\n",
    "ax = died_where_born.plot(title = \"Died in the Same State as Birth by Decade\",\n",
    "                     figsize = (15,10))\n",
    "ax.set_ylabel(\"Ratio\")\n",
    "ax.set_xlabel(\"Decade Born\")"
   ]
  },
  {
   "cell_type": "code",
   "execution_count": 268,
   "metadata": {
    "collapsed": false
   },
   "outputs": [
    {
     "data": {
      "text/plain": [
       "<seaborn.axisgrid.FacetGrid at 0x2d58cf053c8>"
      ]
     },
     "execution_count": 268,
     "metadata": {},
     "output_type": "execute_result"
    },
    {
     "data": {
      "image/png": "[encoded data removed]",
      "text/plain": [
       "<matplotlib.figure.Figure at 0x2d58aa9bf60>"
      ]
     },
     "metadata": {},
     "output_type": "display_data"
    }
   ],
   "source": [
    "# https://github.com/matplotlib/basemap/blob/master/examples/fillstates.py\n",
    "# http://stackoverflow.com/questions/7586384/color-states-with-pythons-matplotlib-basemap\n",
    "# http://wrobstory.github.io/2013/04/python-maps-choropleth.html\n",
    "\n",
    "test = died_where_born.reset_index()\n",
    "test['Low Confidence'].replace(0, 1, inplace = True)\n",
    "test['Low Confidence'].fillna(0, inplace = True)\n",
    "test = test.dropna()\n",
    "# sns.lmplot(x=\"BirthDecade\", y=\"Ratio\", data=test)\n",
    "# sns.tsplot(data=test, err_style=\"ci_bars\")\n",
    "# test[test['Low Confidence'] == 0]['Low Confidence'] = 1\n",
    "# test[test[['Low Confidence']]] = 1\n",
    "# sns.regplot(x=\"BirthDecade\", y=\"Ratio\", data=test)\n",
    "test['BirthDecade'] = test['BirthDecade'].str.strip(\"'s\")\n",
    "test['BirthDecade'] = test['BirthDecade'].astype(int)\n",
    "sns.lmplot(x=\"BirthDecade\", y=\"Ratio\", data=test[test['Low Confidence'] == 0], size = 8)\n",
    "# sns.jointplot(x=\"BirthDecade\", y=\"Ratio\", data=test[test['Low Confidence'] == 0], kind=\"reg\");"
   ]
  },
  {
   "cell_type": "code",
   "execution_count": 269,
   "metadata": {
    "collapsed": false
   },
   "outputs": [
    {
     "data": {
      "text/html": [
       "<script>requirejs.config({paths: { 'plotly': ['https://cdn.plot.ly/plotly-latest.min']},});if(!window.Plotly) {{require(['plotly'],function(plotly) {window.Plotly=plotly;});}}</script>"
      ],
      "text/plain": [
       "<IPython.core.display.HTML object>"
      ]
     },
     "metadata": {},
     "output_type": "display_data"
    },
    {
     "name": "stdout",
     "output_type": "stream",
     "text": [
      "High five! You successfuly sent some data to your account on plotly. View your plot in your browser at https://plot.ly/~macal030/0 or inside your plot.ly account where it is named 'd3-electoral-map'\n"
     ]
    },
    {
     "data": {
      "text/html": [
       "<iframe id=\"igraph\" scrolling=\"no\" style=\"border:none;\" seamless=\"seamless\" src=\"https://plot.ly/~macal030/0.embed\" height=\"525px\" width=\"100%\"></iframe>"
      ],
      "text/plain": [
       "<plotly.tools.PlotlyDisplay object>"
      ]
     },
     "execution_count": 269,
     "metadata": {},
     "output_type": "execute_result"
    }
   ],
   "source": [
    "# https://plot.ly/python/ipython-notebook-tutorial/\n",
    "import plotly.plotly as py\n",
    "from plotly.offline import download_plotlyjs, init_notebook_mode, plot, iplot\n",
    "init_notebook_mode(connected=True)\n",
    "py.sign_in('macal030', 'shk3itdiwv')\n",
    "\n",
    "\n",
    "scl = [[0.0, 'rgb(242,240,247)'],[0.2, 'rgb(218,218,235)'],[0.4, 'rgb(188,189,220)'],\\\n",
    "            [0.6, 'rgb(158,154,200)'],[0.8, 'rgb(117,107,177)'],[1.0, 'rgb(84,39,143)']]\n",
    "\n",
    "df['text'] = df['BirthState'].dropna()\n",
    "    \n",
    "data = [dict(\n",
    "    type='choropleth',\n",
    "    colorscale = scl,\n",
    "    autocolorscale = False,\n",
    "    locations = df['BirthState'].dropna(),\n",
    "    z = df['DiedWhereBorn'].astype(float)*100,\n",
    "    locationmode = 'USA-states',\n",
    "    text = df['text'],\n",
    "    hoverinfo = 'location+z',\n",
    "    marker = dict(\n",
    "        line = dict (\n",
    "            color = 'rgb(255,255,255)',\n",
    "            width = 2\n",
    "        )\n",
    "    ),\n",
    "    colorbar = dict(\n",
    "        title = \"Votes\"\n",
    "    )\n",
    ")]\n",
    "\n",
    "layout = dict(\n",
    "    title = '2016 Electoral College Votes<br>(Hover for breakdown)',\n",
    "    geo = dict(\n",
    "        scope='usa',\n",
    "        projection=dict( type='albers usa' ),\n",
    "        showlakes = True,\n",
    "        lakecolor = 'rgb(255, 255, 255)'\n",
    "    )\n",
    ")\n",
    "    \n",
    "fig = dict(data=data, layout=layout)\n",
    "\n",
    "py.iplot(fig, validate=False, filename='d3-electoral-map')"
   ]
  },
  {
   "cell_type": "code",
   "execution_count": 270,
   "metadata": {
    "collapsed": false
   },
   "outputs": [
    {
     "data": {
      "text/html": [
       "\n",
       "           <script>\n",
       "               \n",
       "                function vct_load_lib(url, callback){\n",
       "                      if(typeof d3 !== 'undefined' &&\n",
       "                         url === 'http://d3js.org/d3.v3.min.js'){\n",
       "                        callback()\n",
       "                      }\n",
       "                      var s = document.createElement('script');\n",
       "                      s.src = url;\n",
       "                      s.async = true;\n",
       "                      s.onreadystatechange = s.onload = callback;\n",
       "                      s.onerror = function(){\n",
       "                        console.warn(\"failed to load library \" + url);\n",
       "                        };\n",
       "                      document.getElementsByTagName(\"head\")[0].appendChild(s);\n",
       "                };\n",
       "                var vincent_event = new CustomEvent(\n",
       "                  \"vincent_libs_loaded\",\n",
       "                  {bubbles: true, cancelable: true}\n",
       "                );\n",
       "                \n",
       "               function load_all_libs(){\n",
       "                  console.log('Loading Vincent libs...')\n",
       "                  vct_load_lib('http://d3js.org/d3.v3.min.js', function(){\n",
       "                  vct_load_lib('http://d3js.org/d3.geo.projection.v0.min.js', function(){\n",
       "                  vct_load_lib('http://wrobstory.github.io/d3-cloud/d3.layout.cloud.js', function(){\n",
       "                  vct_load_lib('http://wrobstory.github.io/vega/vega.v1.3.3.js', function(){\n",
       "                  window.dispatchEvent(vincent_event);\n",
       "                  });\n",
       "                  });\n",
       "                  });\n",
       "                  });\n",
       "               };\n",
       "               if(typeof define === \"function\" && define.amd){\n",
       "                    if (window['d3'] === undefined ||\n",
       "                        window['topojson'] === undefined){\n",
       "                        require.config(\n",
       "                            {paths: {\n",
       "                              d3: 'http://d3js.org/d3.v3.min',\n",
       "                              topojson: 'http://d3js.org/topojson.v1.min'\n",
       "                              }\n",
       "                            }\n",
       "                          );\n",
       "                        require([\"d3\"], function(d3){\n",
       "                            console.log('Loading Vincent from require.js...')\n",
       "                            window.d3 = d3;\n",
       "                            require([\"topojson\"], function(topojson){\n",
       "                                window.topojson = topojson;\n",
       "                                load_all_libs();\n",
       "                            });\n",
       "                        });\n",
       "                    } else {\n",
       "                        load_all_libs();\n",
       "                    };\n",
       "               }else{\n",
       "                    console.log('Require.js not found, loading manually...')\n",
       "                    load_all_libs();\n",
       "               };\n",
       "\n",
       "           </script>"
      ],
      "text/plain": [
       "<IPython.core.display.HTML object>"
      ]
     },
     "metadata": {},
     "output_type": "display_data"
    },
    {
     "ename": "AttributeError",
     "evalue": "'list' object has no attribute 'show'",
     "output_type": "error",
     "traceback": [
      "\u001b[1;31m---------------------------------------------------------------------------\u001b[0m",
      "\u001b[1;31mAttributeError\u001b[0m                            Traceback (most recent call last)",
      "\u001b[1;32m<ipython-input-270-86f897406e79>\u001b[0m in \u001b[0;36m<module>\u001b[1;34m()\u001b[0m\n\u001b[0;32m      8\u001b[0m \u001b[1;33m\u001b[0m\u001b[0m\n\u001b[0;32m      9\u001b[0m \u001b[0mvis\u001b[0m \u001b[1;33m=\u001b[0m \u001b[0mvincent\u001b[0m\u001b[1;33m.\u001b[0m\u001b[0mMap\u001b[0m\u001b[1;33m(\u001b[0m\u001b[0mgeo_data\u001b[0m\u001b[1;33m=\u001b[0m\u001b[0mgeo_data\u001b[0m\u001b[1;33m,\u001b[0m \u001b[0mscale\u001b[0m\u001b[1;33m=\u001b[0m\u001b[1;36m200\u001b[0m\u001b[1;33m)\u001b[0m\u001b[1;33m\u001b[0m\u001b[0m\n\u001b[1;32m---> 10\u001b[1;33m \u001b[0mgeo_data\u001b[0m\u001b[1;33m.\u001b[0m\u001b[0mshow\u001b[0m\u001b[1;33m(\u001b[0m\u001b[1;33m)\u001b[0m\u001b[1;33m\u001b[0m\u001b[0m\n\u001b[0m",
      "\u001b[1;31mAttributeError\u001b[0m: 'list' object has no attribute 'show'"
     ]
    }
   ],
   "source": [
    "import vincent\n",
    "vincent.core.initialize_notebook()\n",
    "\n",
    "world_topo = r'world-countries.topo.json'\n",
    "geo_data = [{'name': 'countries',\n",
    "             'url': world_topo,\n",
    "             'feature': 'world-countries'}]\n",
    "\n",
    "vis = vincent.Map(geo_data=geo_data, scale=200)\n",
    "geo_data.show()"
   ]
  },
  {
   "cell_type": "code",
   "execution_count": null,
   "metadata": {
    "collapsed": false
   },
   "outputs": [],
   "source": [
    "from mpl_toolkits.basemap import Basemap\n"
   ]
  },
  {
   "cell_type": "code",
   "execution_count": null,
   "metadata": {
    "collapsed": false
   },
   "outputs": [],
   "source": [
    "import geoplotlib\n",
    "from geoplotlib.utils import BoundingBox\n",
    "from geoplotlib.colors import ColorMap\n",
    "# import json\n",
    "\n",
    "\n",
    "# find the unemployment rate for the selected county, and convert it to color\n",
    "# def get_color(properties):\n",
    "#     key = str(int(properties['STATE'])) + properties['COUNTY']\n",
    "#     if key in unemployment:\n",
    "#         return cmap.to_color(unemployment.get(key), .15, 'lin')\n",
    "#     else:\n",
    "#         return [0, 0, 0, 0]\n",
    "\n",
    "\n",
    "# with open('data/unemployment.json') as fin:\n",
    "#     unemployment = json.load(fin)\n",
    "\n",
    "# cmap = ColorMap('Blues', alpha=255, levels=10)\n",
    "# geoplotlib.geojson('data/gz_2010_us_050_00_20m.json', fill=True, color=get_color, f_tooltip=lambda properties: properties['NAME'])\n",
    "# geoplotlib.geojson('data/gz_2010_us_050_00_20m.json', fill=False, color=[255, 255, 255, 64])\n",
    "# geoplotlib.set_bbox(BoundingBox.USA)\n",
    "# geoplotlib.show()"
   ]
  },
  {
   "cell_type": "code",
   "execution_count": null,
   "metadata": {
    "collapsed": true
   },
   "outputs": [],
   "source": [
    "import missingno as msno"
   ]
  },
  {
   "cell_type": "code",
   "execution_count": null,
   "metadata": {
    "collapsed": false
   },
   "outputs": [],
   "source": [
    "import pandas_profiling\n",
    "pandas_profiling.ProfileReport(df)"
   ]
  },
  {
   "cell_type": "code",
   "execution_count": null,
   "metadata": {
    "collapsed": false
   },
   "outputs": [],
   "source": [
    "import missingno as msno\n",
    "\n",
    "msno.matrix(df)"
   ]
  },
  {
   "cell_type": "code",
   "execution_count": null,
   "metadata": {
    "collapsed": true
   },
   "outputs": [],
   "source": []
  }
 ],
 "metadata": {
  "kernelspec": {
   "display_name": "Python 3",
   "language": "python",
   "name": "python3"
  },
  "language_info": {
   "codemirror_mode": {
    "name": "ipython",
    "version": 3
   },
   "file_extension": ".py",
   "mimetype": "text/x-python",
   "name": "python",
   "nbconvert_exporter": "python",
   "pygments_lexer": "ipython3",
   "version": "3.5.1"
  }
 },
 "nbformat": 4,
 "nbformat_minor": 0
}
